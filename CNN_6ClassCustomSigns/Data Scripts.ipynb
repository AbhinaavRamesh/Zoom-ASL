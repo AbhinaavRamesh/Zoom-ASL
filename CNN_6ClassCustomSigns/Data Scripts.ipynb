{
 "cells": [
  {
   "cell_type": "code",
   "execution_count": 1,
   "id": "eac6e098",
   "metadata": {},
   "outputs": [],
   "source": [
    "import os\n",
    "import json\n"
   ]
  },
  {
   "cell_type": "code",
   "execution_count": 5,
   "id": "5d8aae52",
   "metadata": {},
   "outputs": [
    {
     "data": {
      "text/plain": [
       "['No_5.mp4',\n",
       " 'No_4.mp4',\n",
       " 'Happy_5.mp4',\n",
       " 'Hello_4.mp4',\n",
       " 'Hello_5.mp4',\n",
       " 'Happy_4.mp4',\n",
       " 'Happy_0.mp4',\n",
       " 'No_3.mp4',\n",
       " 'Hello_1.mp4',\n",
       " 'Hello_0.mp4',\n",
       " 'No_2.mp4',\n",
       " 'Happy_1.mp4',\n",
       " 'Happy_3.mp4',\n",
       " 'No_0.mp4',\n",
       " 'Hello_2.mp4',\n",
       " 'Hello_3.mp4',\n",
       " 'No_1.mp4',\n",
       " 'Happy_2.mp4',\n",
       " 'Nice_4.mp4',\n",
       " 'Want_0.mp4',\n",
       " 'Want_1.mp4',\n",
       " 'Nice_5.mp4',\n",
       " 'Want_3.mp4',\n",
       " 'Want_2.mp4',\n",
       " 'Nice_2.mp4',\n",
       " 'Nice_3.mp4',\n",
       " 'Nice_1.mp4',\n",
       " 'Want_5.mp4',\n",
       " 'Want_4.mp4',\n",
       " 'Nice_0.mp4',\n",
       " 'Eat_5.mp4',\n",
       " 'Eat_4.mp4',\n",
       " 'Eat_3.mp4',\n",
       " 'Eat_2.mp4',\n",
       " 'Eat_0.mp4',\n",
       " 'Eat_1.mp4']"
      ]
     },
     "execution_count": 5,
     "metadata": {},
     "output_type": "execute_result"
    }
   ],
   "source": [
    "CLASSES = [\"hello\", \"nice\",  \"eat\", \"no\", \"happy\", \"want\"]\n",
    "path=\"/Users/abhinaavramesh/Downloads/ManualData/\"\n",
    "ls=[i for i in os.listdir(path) if i[-4:]==\".mp4\"]\n",
    "ls"
   ]
  },
  {
   "cell_type": "code",
   "execution_count": 3,
   "id": "0f8407e8",
   "metadata": {},
   "outputs": [
    {
     "name": "stdout",
     "output_type": "stream",
     "text": [
      "\u001b[34m3D-GAN-superresolution-master\u001b[m\u001b[m\r\n",
      "ARamseshCPTletter (signed) (003).pdf\r\n",
      "AbhinaavRamesh_CPT_Letter.pdf\r\n",
      "\u001b[34mMS-ASL\u001b[m\u001b[m\r\n",
      "\u001b[34mManualData\u001b[m\u001b[m\r\n",
      "\u001b[34mRadiationTherapyAlgorithm-master\u001b[m\u001b[m\r\n",
      "\u001b[34mRadiationTherapyAlgorithm_Mongo\u001b[m\u001b[m\r\n",
      "Sp22 USC VITA Virtual Consent f14446 Template.pdf\r\n",
      "\u001b[34mSublime Text.app\u001b[m\u001b[m\r\n",
      "\u001b[34msign-language-recognition-master\u001b[m\u001b[m\r\n"
     ]
    }
   ],
   "source": [
    "!ls /Users/abhinaavramesh/Downloads/ManualData/"
   ]
  }
 ],
 "metadata": {
  "kernelspec": {
   "display_name": "Python 3 (ipykernel)",
   "language": "python",
   "name": "python3"
  },
  "language_info": {
   "codemirror_mode": {
    "name": "ipython",
    "version": 3
   },
   "file_extension": ".py",
   "mimetype": "text/x-python",
   "name": "python",
   "nbconvert_exporter": "python",
   "pygments_lexer": "ipython3",
   "version": "3.8.13"
  }
 },
 "nbformat": 4,
 "nbformat_minor": 5
}
